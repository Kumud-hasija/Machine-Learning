{
 "cells": [
  {
   "cell_type": "code",
   "execution_count": 1,
   "metadata": {},
   "outputs": [],
   "source": [
    "import pandas as pd"
   ]
  },
  {
   "cell_type": "code",
   "execution_count": 2,
   "metadata": {},
   "outputs": [
    {
     "data": {
      "text/html": [
       "<div>\n",
       "<style scoped>\n",
       "    .dataframe tbody tr th:only-of-type {\n",
       "        vertical-align: middle;\n",
       "    }\n",
       "\n",
       "    .dataframe tbody tr th {\n",
       "        vertical-align: top;\n",
       "    }\n",
       "\n",
       "    .dataframe thead th {\n",
       "        text-align: right;\n",
       "    }\n",
       "</style>\n",
       "<table border=\"1\" class=\"dataframe\">\n",
       "  <thead>\n",
       "    <tr style=\"text-align: right;\">\n",
       "      <th></th>\n",
       "      <th>id</th>\n",
       "      <th>cuisine</th>\n",
       "      <th>ingredients</th>\n",
       "    </tr>\n",
       "  </thead>\n",
       "  <tbody>\n",
       "    <tr>\n",
       "      <th>0</th>\n",
       "      <td>10259</td>\n",
       "      <td>greek</td>\n",
       "      <td>[romaine lettuce, black olives, grape tomatoes...</td>\n",
       "    </tr>\n",
       "    <tr>\n",
       "      <th>1</th>\n",
       "      <td>25693</td>\n",
       "      <td>southern_us</td>\n",
       "      <td>[plain flour, ground pepper, salt, tomatoes, g...</td>\n",
       "    </tr>\n",
       "    <tr>\n",
       "      <th>2</th>\n",
       "      <td>20130</td>\n",
       "      <td>filipino</td>\n",
       "      <td>[eggs, pepper, salt, mayonaise, cooking oil, g...</td>\n",
       "    </tr>\n",
       "    <tr>\n",
       "      <th>3</th>\n",
       "      <td>22213</td>\n",
       "      <td>indian</td>\n",
       "      <td>[water, vegetable oil, wheat, salt]</td>\n",
       "    </tr>\n",
       "    <tr>\n",
       "      <th>4</th>\n",
       "      <td>13162</td>\n",
       "      <td>indian</td>\n",
       "      <td>[black pepper, shallots, cornflour, cayenne pe...</td>\n",
       "    </tr>\n",
       "    <tr>\n",
       "      <th>...</th>\n",
       "      <td>...</td>\n",
       "      <td>...</td>\n",
       "      <td>...</td>\n",
       "    </tr>\n",
       "    <tr>\n",
       "      <th>39769</th>\n",
       "      <td>29109</td>\n",
       "      <td>irish</td>\n",
       "      <td>[light brown sugar, granulated sugar, butter, ...</td>\n",
       "    </tr>\n",
       "    <tr>\n",
       "      <th>39770</th>\n",
       "      <td>11462</td>\n",
       "      <td>italian</td>\n",
       "      <td>[KRAFT Zesty Italian Dressing, purple onion, b...</td>\n",
       "    </tr>\n",
       "    <tr>\n",
       "      <th>39771</th>\n",
       "      <td>2238</td>\n",
       "      <td>irish</td>\n",
       "      <td>[eggs, citrus fruit, raisins, sourdough starte...</td>\n",
       "    </tr>\n",
       "    <tr>\n",
       "      <th>39772</th>\n",
       "      <td>41882</td>\n",
       "      <td>chinese</td>\n",
       "      <td>[boneless chicken skinless thigh, minced garli...</td>\n",
       "    </tr>\n",
       "    <tr>\n",
       "      <th>39773</th>\n",
       "      <td>2362</td>\n",
       "      <td>mexican</td>\n",
       "      <td>[green chile, jalapeno chilies, onions, ground...</td>\n",
       "    </tr>\n",
       "  </tbody>\n",
       "</table>\n",
       "<p>39774 rows × 3 columns</p>\n",
       "</div>"
      ],
      "text/plain": [
       "          id      cuisine                                        ingredients\n",
       "0      10259        greek  [romaine lettuce, black olives, grape tomatoes...\n",
       "1      25693  southern_us  [plain flour, ground pepper, salt, tomatoes, g...\n",
       "2      20130     filipino  [eggs, pepper, salt, mayonaise, cooking oil, g...\n",
       "3      22213       indian                [water, vegetable oil, wheat, salt]\n",
       "4      13162       indian  [black pepper, shallots, cornflour, cayenne pe...\n",
       "...      ...          ...                                                ...\n",
       "39769  29109        irish  [light brown sugar, granulated sugar, butter, ...\n",
       "39770  11462      italian  [KRAFT Zesty Italian Dressing, purple onion, b...\n",
       "39771   2238        irish  [eggs, citrus fruit, raisins, sourdough starte...\n",
       "39772  41882      chinese  [boneless chicken skinless thigh, minced garli...\n",
       "39773   2362      mexican  [green chile, jalapeno chilies, onions, ground...\n",
       "\n",
       "[39774 rows x 3 columns]"
      ]
     },
     "execution_count": 2,
     "metadata": {},
     "output_type": "execute_result"
    }
   ],
   "source": [
    "df = pd.read_json('../Datasets/train.json')\n",
    "df"
   ]
  },
  {
   "cell_type": "code",
   "execution_count": null,
   "metadata": {},
   "outputs": [],
   "source": [
    "pd.read_json(\"...link....\")"
   ]
  },
  {
   "cell_type": "markdown",
   "metadata": {},
   "source": [
    "#SQL data"
   ]
  },
  {
   "cell_type": "code",
   "execution_count": 3,
   "metadata": {},
   "outputs": [
    {
     "name": "stdout",
     "output_type": "stream",
     "text": [
      "Collecting mysql.connector\n",
      "  Downloading mysql-connector-2.2.9.tar.gz (11.9 MB)\n",
      "     ---------------------------------------- 0.0/11.9 MB ? eta -:--:--\n",
      "     ---------------------------------------- 0.0/11.9 MB ? eta -:--:--\n",
      "     --------------------------------------- 0.0/11.9 MB 495.5 kB/s eta 0:00:24\n",
      "      --------------------------------------- 0.2/11.9 MB 2.0 MB/s eta 0:00:06\n",
      "     -- ------------------------------------- 0.7/11.9 MB 4.1 MB/s eta 0:00:03\n",
      "     ---- ----------------------------------- 1.2/11.9 MB 5.8 MB/s eta 0:00:02\n",
      "     ----- ---------------------------------- 1.7/11.9 MB 6.8 MB/s eta 0:00:02\n",
      "     ------- -------------------------------- 2.3/11.9 MB 7.6 MB/s eta 0:00:02\n",
      "     --------- ------------------------------ 2.8/11.9 MB 8.1 MB/s eta 0:00:02\n",
      "     ----------- ---------------------------- 3.3/11.9 MB 8.5 MB/s eta 0:00:02\n",
      "     ------------- -------------------------- 3.9/11.9 MB 8.9 MB/s eta 0:00:01\n",
      "     -------------- ------------------------- 4.4/11.9 MB 9.1 MB/s eta 0:00:01\n",
      "     ---------------- ----------------------- 5.0/11.9 MB 9.4 MB/s eta 0:00:01\n",
      "     ------------------ --------------------- 5.5/11.9 MB 9.5 MB/s eta 0:00:01\n",
      "     -------------------- ------------------- 6.1/11.9 MB 9.7 MB/s eta 0:00:01\n",
      "     ---------------------- ----------------- 6.6/11.9 MB 9.8 MB/s eta 0:00:01\n",
      "     ----------------------- ---------------- 7.1/11.9 MB 10.1 MB/s eta 0:00:01\n",
      "     ------------------------- -------------- 7.6/11.9 MB 10.2 MB/s eta 0:00:01\n",
      "     --------------------------- ------------ 8.2/11.9 MB 10.3 MB/s eta 0:00:01\n",
      "     ----------------------------- ---------- 8.7/11.9 MB 10.3 MB/s eta 0:00:01\n",
      "     ------------------------------- -------- 9.3/11.9 MB 10.4 MB/s eta 0:00:01\n",
      "     --------------------------------- ------ 9.8/11.9 MB 10.5 MB/s eta 0:00:01\n",
      "     ---------------------------------- ---- 10.4/11.9 MB 11.5 MB/s eta 0:00:01\n",
      "     ----------------------------------- --- 10.9/11.9 MB 11.9 MB/s eta 0:00:01\n",
      "     ------------------------------------- - 11.5/11.9 MB 11.9 MB/s eta 0:00:01\n",
      "     --------------------------------------  11.8/11.9 MB 11.7 MB/s eta 0:00:01\n",
      "     --------------------------------------- 11.9/11.9 MB 11.1 MB/s eta 0:00:00\n",
      "  Preparing metadata (setup.py): started\n",
      "  Preparing metadata (setup.py): finished with status 'done'\n",
      "Building wheels for collected packages: mysql.connector\n",
      "  Building wheel for mysql.connector (setup.py): started\n",
      "  Building wheel for mysql.connector (setup.py): finished with status 'done'\n",
      "  Created wheel for mysql.connector: filename=mysql_connector-2.2.9-cp312-cp312-win_amd64.whl size=247960 sha256=d5899c9f369f9c6dec50e6ce8ce8e9d85cae0b3188fb1ee37b8a7eb4ccde2403\n",
      "  Stored in directory: c:\\users\\kumud\\appdata\\local\\pip\\cache\\wheels\\03\\17\\fa\\d7604c72dd3dd6d3eb3d249abf36cc532c9a9b4354b8f1bc4f\n",
      "Successfully built mysql.connector\n",
      "Installing collected packages: mysql.connector\n",
      "Successfully installed mysql.connector-2.2.9\n"
     ]
    }
   ],
   "source": [
    "!pip install mysql.connector"
   ]
  },
  {
   "cell_type": "code",
   "execution_count": 4,
   "metadata": {},
   "outputs": [],
   "source": [
    "import mysql.connector"
   ]
  },
  {
   "cell_type": "code",
   "execution_count": null,
   "metadata": {},
   "outputs": [],
   "source": [
    "conn = mysql.connector.connect( host='localhost' , user='root', password='1234' ,database='world')\n",
    "\n",
    "pd.read_sql_query(\"select* from city\" , conn)\n",
    "\n",
    "# some operaation same as csv \n"
   ]
  }
 ],
 "metadata": {
  "kernelspec": {
   "display_name": "base",
   "language": "python",
   "name": "python3"
  },
  "language_info": {
   "codemirror_mode": {
    "name": "ipython",
    "version": 3
   },
   "file_extension": ".py",
   "mimetype": "text/x-python",
   "name": "python",
   "nbconvert_exporter": "python",
   "pygments_lexer": "ipython3",
   "version": "3.12.4"
  }
 },
 "nbformat": 4,
 "nbformat_minor": 2
}
