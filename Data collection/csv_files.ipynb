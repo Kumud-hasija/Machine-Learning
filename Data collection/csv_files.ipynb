{
 "cells": [
  {
   "cell_type": "code",
   "execution_count": 1,
   "metadata": {},
   "outputs": [],
   "source": [
    "import pandas as pd"
   ]
  },
  {
   "cell_type": "markdown",
   "metadata": {},
   "source": [
    "# local csv file\n",
    "pd.read_csv ( )"
   ]
  },
  {
   "cell_type": "code",
   "execution_count": 2,
   "metadata": {},
   "outputs": [],
   "source": [
    "df = pd.read_csv('../Datasets/Advertising.csv')"
   ]
  },
  {
   "cell_type": "markdown",
   "metadata": {},
   "source": [
    "# opening from url "
   ]
  },
  {
   "cell_type": "code",
   "execution_count": null,
   "metadata": {},
   "outputs": [],
   "source": [
    "import requests\n",
    "from io import StringIO\n",
    "\n",
    "# add link here \n",
    "url = \"https://raw.githubusercontent.com/cs109/2014_data/master/countries.csv\"\n",
    "headers = {\"User-Agent\": \"Mozilla/5.0 (Macintosh; Intel Mac OS X 10.14; rv:66.0) Gecko/20100101 Firefox/66.0\"}\n",
    "req = requests.get(url, headers=headers)\n",
    "data = StringIO(req.text)\n",
    "\n",
    "pd.read_csv(data)"
   ]
  },
  {
   "cell_type": "code",
   "execution_count": null,
   "metadata": {},
   "outputs": [],
   "source": [
    "# sep parameter\n",
    "data = pd.read_csv('../Datasets/Advertising.csv ', sep='\\t') \n",
    "\n",
    "# names col - add heading column \n",
    "names =['a','b']\n",
    "\n",
    "#index_col parameter - make col the index of data\n",
    "index_col ='empid'\n",
    "\n",
    "#header parameter - make first row as header\n",
    "header=1\n",
    "\n",
    "#use_cols parameter - get specific columns\n",
    "usecols=['emp_id','name','num']\n",
    "\n",
    "# squeeze parameter  - series object\n",
    "squeeze = True\n",
    "\n",
    "#skiprows/nrows -\n",
    "skiprows=[0,1] #skip rows\n",
    "nrows=100   #restrict number of rows\n",
    "\n",
    "#encoding parameter - special character\n",
    "encoding='latin-1'\n",
    "\n",
    "#skip bad lines - eg expect 8 parameters but have lines , it will drop such bad lines\n",
    "error_bad_lines = False\n",
    "\n",
    "#dtypes parameters - change datatype\n",
    "dtype = {'target':int}\n",
    "\n",
    "# handling dates -  convert string to dates \n",
    "parse_dates = ['date']\n",
    "\n",
    "#convertors\n",
    "def rename(name):\n",
    "    if name == \"royal challengers bangalore\":\n",
    "        return \"RCB\"\n",
    "    else:\n",
    "        return name\n",
    "    \n",
    "converters ={'team1:rename'} # col:function\n",
    "\n",
    "#na_values - convert - or other to nan \n",
    "na_values=['-']\n",
    "\n",
    "#loading huge datasets into chunks\n",
    "chunksize=5000\n",
    "data1 = pd.read_csv('../Datasets/Advertising.csv ', chunksize=5000)\n",
    "for chunks in data1 :\n",
    "    print(chunk.shape) "
   ]
  }
 ],
 "metadata": {
  "kernelspec": {
   "display_name": "base",
   "language": "python",
   "name": "python3"
  },
  "language_info": {
   "codemirror_mode": {
    "name": "ipython",
    "version": 3
   },
   "file_extension": ".py",
   "mimetype": "text/x-python",
   "name": "python",
   "nbconvert_exporter": "python",
   "pygments_lexer": "ipython3",
   "version": "3.12.4"
  }
 },
 "nbformat": 4,
 "nbformat_minor": 2
}
