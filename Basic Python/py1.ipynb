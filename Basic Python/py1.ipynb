{
 "cells": [
  {
   "cell_type": "code",
   "execution_count": 21,
   "metadata": {},
   "outputs": [
    {
     "name": "stdout",
     "output_type": "stream",
     "text": [
      "1693414690992\n",
      "<class 'str'>\n",
      "5\n"
     ]
    },
    {
     "ename": "TypeError",
     "evalue": "isinstance() arg 2 must be a type, a tuple of types, or a union",
     "output_type": "error",
     "traceback": [
      "\u001b[1;31m---------------------------------------------------------------------------\u001b[0m",
      "\u001b[1;31mTypeError\u001b[0m                                 Traceback (most recent call last)",
      "Cell \u001b[1;32mIn[21], line 5\u001b[0m\n\u001b[0;32m      3\u001b[0m \u001b[38;5;28mprint\u001b[39m(\u001b[38;5;28mtype\u001b[39m(y)) \u001b[38;5;66;03m# datatype\u001b[39;00m\n\u001b[0;32m      4\u001b[0m \u001b[38;5;28mprint\u001b[39m(\u001b[38;5;28mlen\u001b[39m(y)) \u001b[38;5;66;03m#length\u001b[39;00m\n\u001b[1;32m----> 5\u001b[0m \u001b[38;5;28mprint\u001b[39m(\u001b[38;5;28misinstance\u001b[39m(y,\u001b[38;5;28mstr\u001b[39m))\n",
      "\u001b[1;31mTypeError\u001b[0m: isinstance() arg 2 must be a type, a tuple of types, or a union"
     ]
    }
   ],
   "source": [
    "y=\"hello\"\n",
    "print(id(y)) #address of y\n",
    "print(type(y)) # datatype\n",
    "print(len(y)) #length\n",
    "print(isinstance(y,str)) #check dtype"
   ]
  },
  {
   "cell_type": "code",
   "execution_count": null,
   "metadata": {},
   "outputs": [
    {
     "name": "stdout",
     "output_type": "stream",
     "text": [
      "h\n",
      "o\n",
      "ello\n"
     ]
    }
   ],
   "source": [
    "#indexing and slicing\n",
    "str = \"hello\"\n",
    "print(str[0])\n",
    "print(str[-1])\n",
    "print(str[1:])"
   ]
  },
  {
   "cell_type": "markdown",
   "metadata": {},
   "source": [
    "Datatypes \n",
    "1. numbers\n",
    "2. Boolean\n",
    "3. strings\n",
    "4. sequence \n",
    "5. mapping\n",
    "6. set\n",
    "7. binary\n",
    "8. none"
   ]
  },
  {
   "cell_type": "code",
   "execution_count": null,
   "metadata": {},
   "outputs": [
    {
     "name": "stdout",
     "output_type": "stream",
     "text": [
      "3\n",
      "7\n",
      "8\n",
      "2.0\n",
      "0\n",
      "16\n",
      "<class 'int'>\n",
      "<class 'str'>\n",
      "<class 'float'>\n",
      "<class 'bool'>\n"
     ]
    }
   ],
   "source": [
    "#numbers\n",
    "print(1+2)\n",
    "print(8-1)\n",
    "print(4*2)\n",
    "print(4/2)\n",
    "print(4%2)\n",
    "print(4**2)\n",
    "print(type(2))\n",
    "print(type(\"hello\"))\n",
    "print(type(10.2))\n",
    "print(type(True))\n"
   ]
  },
  {
   "cell_type": "code",
   "execution_count": null,
   "metadata": {},
   "outputs": [
    {
     "name": "stdout",
     "output_type": "stream",
     "text": [
      "hello\n",
      "g\n",
      "      j\n",
      "      k\n"
     ]
    }
   ],
   "source": [
    "#string\n",
    "print(\"hello\")\n",
    "print('''g\n",
    "      j\n",
    "      k''')"
   ]
  },
  {
   "cell_type": "code",
   "execution_count": 22,
   "metadata": {},
   "outputs": [
    {
     "name": "stdout",
     "output_type": "stream",
     "text": [
      "[2, 4, 6]\n",
      "[2, True, 'h']\n",
      "[3, 6, 4]\n",
      "{3, 5, 7}\n",
      "{1: 'one', 2: 'two'}\n",
      "two\n"
     ]
    }
   ],
   "source": [
    "#list - unordered , mutable\n",
    "a=[2,4,6]\n",
    "print(a)\n",
    "s=[2,True,\"h\"]\n",
    "print(s)\n",
    "#Tuple - ordered , immutable\n",
    "t=[3,6,4]\n",
    "print(t)\n",
    "\n",
    "#set - unordered , unique\n",
    "f= {3,5,5,7}\n",
    "print(f)\n",
    "\n",
    "#dictionary - unordered key-value\n",
    "d= {1:\"one\" ,2:\"two\"}\n",
    "print(d)\n",
    "print(d[2])\n"
   ]
  },
  {
   "cell_type": "code",
   "execution_count": 25,
   "metadata": {},
   "outputs": [
    {
     "data": {
      "text/plain": [
       "['h', 'e', 'l', 'l', 'o']"
      ]
     },
     "execution_count": 25,
     "metadata": {},
     "output_type": "execute_result"
    }
   ],
   "source": [
    "#conversion\n",
    "float(4)\n",
    "set([2,3,4])\n",
    "list(\"hello\")"
   ]
  },
  {
   "cell_type": "code",
   "execution_count": null,
   "metadata": {},
   "outputs": [
    {
     "name": "stdout",
     "output_type": "stream",
     "text": [
      "hello\n",
      "this is formatted a and b\n",
      "this is formatted b and a\n",
      "this is formatted a and b\n"
     ]
    }
   ],
   "source": [
    "#output \n",
    "print(\"hello\")\n",
    "print(\"this is formatted {} and {}\".format(\"a\",\"b\")) #default -inorder\n",
    "print(\"this is formatted {1} and {0}\".format(\"a\",\"b\")) #index\n",
    "print(\"this is formatted {one} and {two}\".format(one=\"a\",two=\"b\")) #variable\n",
    "\n",
    "#input \n",
    "temp = input(\"Enter number:\")\n",
    "print(temp)"
   ]
  },
  {
   "cell_type": "markdown",
   "metadata": {},
   "source": [
    "Operators\n",
    "1. airthematic ( + - * / // % ** )\n",
    "2. comparison - < > <= >= == !=\n",
    "3. Logical - and && or || not\n",
    "4. Bitwise - & | ~ ^ >> << \n",
    "5. assignment - += -= ...\n",
    "6. special - is , is not ,  in \n"
   ]
  },
  {
   "cell_type": "code",
   "execution_count": null,
   "metadata": {},
   "outputs": [
    {
     "name": "stdout",
     "output_type": "stream",
     "text": [
      "9\n",
      "5\n",
      "3.5\n",
      "3\n",
      "-4\n",
      "14\n",
      "49\n",
      "1\n"
     ]
    }
   ],
   "source": [
    "#airthematic\n",
    "x,y =7,2\n",
    "print(x+y)\n",
    "print(x-y)\n",
    "print(x/y)\n",
    "print(x//y)\n",
    "print(-x//y)\n",
    "print(x*y)\n",
    "print(x**y)\n",
    "print(x%y)\n"
   ]
  },
  {
   "cell_type": "code",
   "execution_count": null,
   "metadata": {},
   "outputs": [
    {
     "name": "stdout",
     "output_type": "stream",
     "text": [
      "0\n",
      "1\n",
      "2\n",
      "3\n",
      "4\n",
      "finish\n",
      "0\n",
      "1\n",
      "2\n",
      "3\n",
      "4\n",
      "5\n",
      "6\n"
     ]
    }
   ],
   "source": [
    "# contional \n",
    "\n",
    "\n",
    "#if else\n",
    "i=5\n",
    "if(i==2):\n",
    "    i=i+1\n",
    "elif(i==5):\n",
    "    i=i+2\n",
    "else:\n",
    "    i=i+4\n",
    "\n",
    "#while\n",
    "i=0\n",
    "while i<5:\n",
    "    print(i)\n",
    "    i+=1\n",
    "else:\n",
    "    print(\"finish\")    \n",
    "\n",
    "#for loop\n",
    "for i in range(0,7):\n",
    "    print(i)\n",
    "    \n",
    "#break\n",
    "\n",
    "#continue"
   ]
  }
 ],
 "metadata": {
  "kernelspec": {
   "display_name": "Python (anaconda_env)",
   "language": "python",
   "name": "anaconda_env"
  },
  "language_info": {
   "codemirror_mode": {
    "name": "ipython",
    "version": 3
   },
   "file_extension": ".py",
   "mimetype": "text/x-python",
   "name": "python",
   "nbconvert_exporter": "python",
   "pygments_lexer": "ipython3",
   "version": "3.12.4"
  }
 },
 "nbformat": 4,
 "nbformat_minor": 2
}
