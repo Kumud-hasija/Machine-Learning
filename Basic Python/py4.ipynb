{
 "cells": [
  {
   "cell_type": "markdown",
   "metadata": {},
   "source": [
    "# FILE I/O\n",
    "\n",
    "r - read\n",
    "w - write\n",
    "x - open\n",
    "a - open and append at end\n",
    "t - open in text mode\n",
    "b - binary mode\n",
    "'+' - for updating (r+w)"
   ]
  },
  {
   "cell_type": "code",
   "execution_count": null,
   "metadata": {},
   "outputs": [],
   "source": [
    "f = open ('ex.txt')\n",
    "f = open ('ex.txt' ,'r')\n",
    "\n",
    "f.close()\n",
    "\n",
    "with open (\"ex.txt\",encoding=\"utf-8\") as f :\n",
    "    \n",
    "f.write(\"hehe\")\n",
    "f.read()\n",
    "f.read(10)\n",
    "f.readline()\n",
    "f.seek()\n"
   ]
  },
  {
   "cell_type": "code",
   "execution_count": null,
   "metadata": {},
   "outputs": [],
   "source": [
    "import os \n",
    "os.rename(\"h.txt\",\"new.txt\")\n",
    "os.remove(\"t.txt\")\n",
    "os.getcwd()\n",
    "os.chdir(\"/user/v\")\n",
    "os.listdir(os.getcwd())\n",
    "os.mkdir(\"test\")\n",
    "os.rmdir('text') # remove empty dir\n",
    "os.chdir('./tft')\n",
    "os.rmtree('text') # remove non empty dir\n",
    "\n",
    "\n",
    "\n",
    "\n"
   ]
  },
  {
   "cell_type": "markdown",
   "metadata": {},
   "source": [
    "# Debugging"
   ]
  },
  {
   "cell_type": "code",
   "execution_count": null,
   "metadata": {},
   "outputs": [],
   "source": [
    "import pdb\n",
    "\n",
    "#breakpoint\n",
    "#get to know where function is running \n",
    "# c- cts\n",
    "# q- quit\n",
    "# h - help\n",
    "# list - where\n",
    "# p : print\n",
    "# p locals()\n",
    "# p globals()\n",
    "# p locals() - get var info\n",
    "\n",
    "pdb.set_trace() "
   ]
  }
 ],
 "metadata": {
  "kernelspec": {
   "display_name": "base",
   "language": "python",
   "name": "python3"
  },
  "language_info": {
   "name": "python",
   "version": "3.12.4"
  }
 },
 "nbformat": 4,
 "nbformat_minor": 2
}
