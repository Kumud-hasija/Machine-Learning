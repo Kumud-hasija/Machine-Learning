{
 "cells": [
  {
   "cell_type": "markdown",
   "metadata": {},
   "source": [
    "List \n",
    "sequence datatype\n",
    "[]\n",
    "mutable\n",
    "\n"
   ]
  },
  {
   "cell_type": "code",
   "execution_count": null,
   "metadata": {},
   "outputs": [
    {
     "name": "stdout",
     "output_type": "stream",
     "text": [
      "[1, 2, 3, 4]\n",
      "4\n",
      "yes\n",
      "[2, 3, 4, 6]\n"
     ]
    }
   ],
   "source": [
    "a= [1,2,3,4]\n",
    "print(a)\n",
    "print(len(a))\n",
    "a.append(5) # added 5 in list\n",
    "a.insert(3,\"added at index 3\") # added at index\n",
    "a.remove(4) #index\n",
    "a.append(a) # added whole list at one index\n",
    "a.extend(a) # added as separate element in list\n",
    "del a[1] #delete\n",
    "b= a.pop(1) #index\n",
    "a.remove(3) # remove elemet \n",
    "\n",
    "#in , not in \n",
    "if 2 in a:\n",
    "    print(\"yes\")\n",
    "\n",
    "f = sorted(a)\n",
    "d = sorted(a , reverse=True)\n",
    "a.sort() #dtype should be same \n",
    "\n",
    "a=[2,3,4]\n",
    "b=a\n",
    "b.append(6) # 6 will also be added in a\n",
    "print(a)\n",
    "\n",
    "k = a.split(',') #by default space or tab\n",
    "\n",
    "#extend or +\n",
    "\n",
    "print(a.cound(1))\n",
    "\n",
    "square = [i**2 for i in range(10)]\n",
    "print(square)\n",
    "\n",
    "\n",
    "\n"
   ]
  }
 ],
 "metadata": {
  "kernelspec": {
   "display_name": "Python (anaconda_env)",
   "language": "python",
   "name": "anaconda_env"
  },
  "language_info": {
   "codemirror_mode": {
    "name": "ipython",
    "version": 3
   },
   "file_extension": ".py",
   "mimetype": "text/x-python",
   "name": "python",
   "nbconvert_exporter": "python",
   "pygments_lexer": "ipython3",
   "version": "3.12.4"
  }
 },
 "nbformat": 4,
 "nbformat_minor": 2
}
