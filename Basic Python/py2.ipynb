{
 "cells": [
  {
   "cell_type": "markdown",
   "metadata": {},
   "source": [
    "List -\n",
    "sequence datatype\n",
    "[]\n",
    "mutable\n",
    "\n"
   ]
  },
  {
   "cell_type": "code",
   "execution_count": null,
   "metadata": {},
   "outputs": [
    {
     "name": "stdout",
     "output_type": "stream",
     "text": [
      "[1, 2, 3, 4]\n",
      "4\n",
      "yes\n",
      "[2, 3, 4, 6]\n"
     ]
    }
   ],
   "source": [
    "a= [1,2,3,4]\n",
    "print(a)\n",
    "print(len(a))\n",
    "a.append(5) # added 5 in list\n",
    "a.insert(3,\"added at index 3\") # added at index\n",
    "a.remove(4) #index\n",
    "a.append(a) # added whole list at one index\n",
    "a.extend(a) # added as separate element in list\n",
    "del a[1] #delete\n",
    "b= a.pop(1) #index\n",
    "a.remove(3) # remove elemet \n",
    "\n",
    "#in , not in \n",
    "if 2 in a:\n",
    "    print(\"yes\")\n",
    "\n",
    "f = sorted(a)\n",
    "d = sorted(a , reverse=True)\n",
    "a.sort() #dtype should be same \n",
    "\n",
    "a=[2,3,4]\n",
    "b=a\n",
    "b.append(6) # 6 will also be added in a\n",
    "print(a)\n",
    "\n",
    "k = a.split(',') #by default space or tab\n",
    "\n",
    "#extend or +\n",
    "\n",
    "print(a.cound(1))\n",
    "\n",
    "square = [i**2 for i in range(10)]\n",
    "print(square)\n",
    "\n",
    "\n",
    "\n"
   ]
  },
  {
   "cell_type": "markdown",
   "metadata": {},
   "source": [
    "#TUPLE - immutable"
   ]
  },
  {
   "cell_type": "code",
   "execution_count": 7,
   "metadata": {},
   "outputs": [],
   "source": [
    "t=()\n",
    "t=(1,2,3)\n",
    "t=(1,\"one\",2)\n",
    "t=(12,(3,4),[5,6])"
   ]
  },
  {
   "cell_type": "code",
   "execution_count": 4,
   "metadata": {},
   "outputs": [
    {
     "name": "stdout",
     "output_type": "stream",
     "text": [
      "<class 'str'>\n",
      "<class 'tuple'>\n",
      "<class 'tuple'>\n"
     ]
    }
   ],
   "source": [
    "# only para ,it is type will be str\n",
    "# add comma at last , for type to be tuple\n",
    "\n",
    "a = (\"hello\")\n",
    "print(type(a))\n",
    "\n",
    "b = (\"hello\",)\n",
    "print(type(b))\n",
    "\n",
    "c = \"hello\",\n",
    "print(type(c))\n"
   ]
  },
  {
   "cell_type": "code",
   "execution_count": 11,
   "metadata": {},
   "outputs": [
    {
     "name": "stdout",
     "output_type": "stream",
     "text": [
      "(12, (3, 4), [5, 6])\n",
      "(3, 4)\n",
      "[5, 6]\n",
      "6\n",
      "((3, 4), [5, 6])\n",
      "(12, (3, 4))\n"
     ]
    }
   ],
   "source": [
    "print(t)\n",
    "print(t[1])\n",
    "print(t[-1])\n",
    "print(t[2][1])\n",
    "print(t[1:4])\n",
    "print(t[:-1])"
   ]
  },
  {
   "cell_type": "code",
   "execution_count": 23,
   "metadata": {},
   "outputs": [
    {
     "name": "stdout",
     "output_type": "stream",
     "text": [
      "(12, (3, 4), [5, 100])\n"
     ]
    },
    {
     "data": {
      "text/plain": [
       "('s', 's', 's', 's')"
      ]
     },
     "execution_count": 23,
     "metadata": {},
     "output_type": "execute_result"
    }
   ],
   "source": [
    "#changing tuple\n",
    "#typeerror\n",
    "t[2][1]=100\n",
    "print(t)\n",
    "\n",
    "g=c+b\n",
    "\n",
    "v = (('s',)*4)\n",
    "v"
   ]
  },
  {
   "cell_type": "code",
   "execution_count": null,
   "metadata": {},
   "outputs": [],
   "source": [
    "#can delete whole tuple\n",
    "del(a)"
   ]
  },
  {
   "cell_type": "code",
   "execution_count": 29,
   "metadata": {},
   "outputs": [
    {
     "name": "stdout",
     "output_type": "stream",
     "text": [
      "0\n",
      "0\n",
      "False\n",
      "3\n",
      "[1, 2, 3, 4]\n",
      "1\n",
      "4\n",
      "10\n"
     ]
    }
   ],
   "source": [
    "#count\n",
    "print(t.count(1))\n",
    "\n",
    "#index - first index\n",
    "print(t.index(12))\n",
    "\n",
    "#memebership\n",
    "print(4 in t)\n",
    "\n",
    "#length\n",
    "print(len(t))\n",
    "\n",
    "#sort\n",
    "x=(1,2,3,4)\n",
    "newt = sorted(x)\n",
    "print(newt)\n",
    "\n",
    "print(min(x))\n",
    "print(max(x))\n",
    "print(sum(x))\n"
   ]
  },
  {
   "cell_type": "markdown",
   "metadata": {},
   "source": [
    "#sets - unordered , unique element"
   ]
  },
  {
   "cell_type": "code",
   "execution_count": null,
   "metadata": {},
   "outputs": [
    {
     "name": "stdout",
     "output_type": "stream",
     "text": [
      "<class 'set'>\n"
     ]
    }
   ],
   "source": [
    "d= set()\n",
    "p = {1,2,3,4}\n",
    "print(type(p))"
   ]
  },
  {
   "cell_type": "code",
   "execution_count": 31,
   "metadata": {},
   "outputs": [],
   "source": [
    "s={1,2,3,4}\n",
    "# set doesnt support indexing "
   ]
  },
  {
   "cell_type": "code",
   "execution_count": null,
   "metadata": {},
   "outputs": [
    {
     "name": "stdout",
     "output_type": "stream",
     "text": [
      "{1, 2, 3, 4, 5, 6}\n",
      "{1, 2, 3, 4, 5, 6}\n",
      "{1, 2, 3, 4, 5}\n",
      "{1, 3, 4, 5}\n",
      "{3, 4, 5}\n"
     ]
    }
   ],
   "source": [
    "#add\n",
    "s.add(6)\n",
    "print(s)\n",
    "\n",
    "#add multiple\n",
    "s.update([5,6,1])\n",
    "print(s)\n",
    "\n",
    "#remove\n",
    "s.discard(6)\n",
    "print(s)\n",
    "\n",
    "# remove \n",
    "s.remove(2)\n",
    "print(s)\n",
    "\n",
    "#pop - random\n",
    "s.pop()\n",
    "print(s)\n",
    "\n",
    "s.clear() # everything"
   ]
  },
  {
   "cell_type": "code",
   "execution_count": 37,
   "metadata": {},
   "outputs": [
    {
     "ename": "NameError",
     "evalue": "name 's1' is not defined",
     "output_type": "error",
     "traceback": [
      "\u001b[1;31m---------------------------------------------------------------------------\u001b[0m",
      "\u001b[1;31mNameError\u001b[0m                                 Traceback (most recent call last)",
      "Cell \u001b[1;32mIn[37], line 2\u001b[0m\n\u001b[0;32m      1\u001b[0m \u001b[38;5;66;03m#union\u001b[39;00m\n\u001b[1;32m----> 2\u001b[0m s1\u001b[38;5;241m|\u001b[39ms2\n\u001b[0;32m      3\u001b[0m s1\u001b[38;5;241m.\u001b[39munion(s2)\n\u001b[0;32m      5\u001b[0m \u001b[38;5;66;03m#intersection\u001b[39;00m\n",
      "\u001b[1;31mNameError\u001b[0m: name 's1' is not defined"
     ]
    }
   ],
   "source": [
    "#union\n",
    "s1|s2\n",
    "s1.union(s2)\n",
    "\n",
    "#intersection\n",
    "s1&s2\n",
    "s1.intersection(s2)\n",
    "\n",
    "#difference\n",
    "s1-s2\n",
    "s1.difference(s2)\n",
    "\n",
    "#symmetric difference - all expect in both\n",
    "s1^s2\n",
    "s1.symmetric_difference(s2)\n",
    "\n",
    "#find - check is subset\n",
    "x.issubset(y)\n",
    "\n",
    "\n"
   ]
  },
  {
   "cell_type": "markdown",
   "metadata": {},
   "source": [
    "# frozen set- set that cant be changed,immutable\n",
    "# ronzen set can be used as key to dictionary"
   ]
  },
  {
   "cell_type": "code",
   "execution_count": null,
   "metadata": {},
   "outputs": [],
   "source": [
    "s1=frozenset([1,2,3,4])\n",
    "#not add\n",
    "# include\n",
    "# & ...."
   ]
  },
  {
   "cell_type": "markdown",
   "metadata": {},
   "source": [
    "# dictionary - hashtable \n",
    "unordered collection\n",
    "list and tuple is ordered\n",
    "key value"
   ]
  },
  {
   "cell_type": "code",
   "execution_count": null,
   "metadata": {},
   "outputs": [
    {
     "name": "stdout",
     "output_type": "stream",
     "text": [
      "name\n",
      "None\n"
     ]
    },
    {
     "data": {
      "text/plain": [
       "'new'"
      ]
     },
     "execution_count": 41,
     "metadata": {},
     "output_type": "execute_result"
    }
   ],
   "source": [
    "d={}\n",
    "d=dict()\n",
    "d={1:\"name\",2:\"age\"}\n",
    "\n",
    "print(d[1])\n",
    "#keyerror - if doesnt exist\n",
    "\n",
    "print(d.get('address'))\n",
    "# if doesnt exist - get none\n",
    "\n",
    "#update or add\n",
    "d[3]=\"new\"\n",
    "\n",
    "#delete\n",
    "d.pop(3)\n",
    "d.popitem()\n",
    "\n",
    "del d[2]\n",
    "d.clear()\n",
    "\n",
    "m = d.copy()\n",
    "\n",
    "#..........item , key , value......\n",
    "d.items()\n",
    "d.keys()\n",
    "d.values()\n",
    "dir(d)\n",
    "\n",
    "\n"
   ]
  },
  {
   "cell_type": "markdown",
   "metadata": {},
   "source": [
    "# string - immutable"
   ]
  },
  {
   "cell_type": "code",
   "execution_count": 43,
   "metadata": {},
   "outputs": [],
   "source": [
    "str =\"hello world\"\n",
    "s=\"apple\"\n"
   ]
  },
  {
   "cell_type": "code",
   "execution_count": null,
   "metadata": {},
   "outputs": [
    {
     "ename": "TypeError",
     "evalue": "'str' object does not support item assignment",
     "output_type": "error",
     "traceback": [
      "\u001b[1;31m---------------------------------------------------------------------------\u001b[0m",
      "\u001b[1;31mTypeError\u001b[0m                                 Traceback (most recent call last)",
      "Cell \u001b[1;32mIn[44], line 1\u001b[0m\n\u001b[1;32m----> 1\u001b[0m s[\u001b[38;5;241m3\u001b[39m]\u001b[38;5;241m=\u001b[39m\u001b[38;5;124m\"\u001b[39m\u001b[38;5;124mf\u001b[39m\u001b[38;5;124m\"\u001b[39m\n",
      "\u001b[1;31mTypeError\u001b[0m: 'str' object does not support item assignment"
     ]
    }
   ],
   "source": [
    "s[3]=\"f\" #immutable"
   ]
  },
  {
   "cell_type": "code",
   "execution_count": null,
   "metadata": {},
   "outputs": [],
   "source": [
    "del s"
   ]
  },
  {
   "cell_type": "code",
   "execution_count": null,
   "metadata": {},
   "outputs": [],
   "source": [
    "print('i' in s)"
   ]
  },
  {
   "cell_type": "code",
   "execution_count": 46,
   "metadata": {},
   "outputs": [
    {
     "name": "stdout",
     "output_type": "stream",
     "text": [
      "hello-world-to-me\n"
     ]
    },
    {
     "data": {
      "text/plain": [
       "'apple'"
      ]
     },
     "execution_count": 46,
     "metadata": {},
     "output_type": "execute_result"
    }
   ],
   "source": [
    "s.lower()\n",
    "s.upper()\n",
    "s.split()\n",
    "x ='-'.join(['hello','world','to','me'])\n",
    "print(x)\n",
    "s.find(\"ll\")\n",
    "s.replace('o','k')\n",
    "\n"
   ]
  }
 ],
 "metadata": {
  "kernelspec": {
   "display_name": "base",
   "language": "python",
   "name": "python3"
  },
  "language_info": {
   "codemirror_mode": {
    "name": "ipython",
    "version": 3
   },
   "file_extension": ".py",
   "mimetype": "text/x-python",
   "name": "python",
   "nbconvert_exporter": "python",
   "pygments_lexer": "ipython3",
   "version": "3.12.4"
  }
 },
 "nbformat": 4,
 "nbformat_minor": 2
}
