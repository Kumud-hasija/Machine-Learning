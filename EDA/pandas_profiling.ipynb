{
 "cells": [
  {
   "cell_type": "code",
   "execution_count": 3,
   "metadata": {},
   "outputs": [],
   "source": [
    "import numpy as np\n",
    "import pandas as pd"
   ]
  },
  {
   "cell_type": "code",
   "execution_count": 5,
   "metadata": {},
   "outputs": [],
   "source": [
    "df = pd.read_csv('../Datasets/train.csv')"
   ]
  },
  {
   "cell_type": "code",
   "execution_count": 1,
   "metadata": {},
   "outputs": [
    {
     "name": "stdout",
     "output_type": "stream",
     "text": [
      "Collecting pandas-profiling\n",
      "  Downloading pandas_profiling-3.2.0-py2.py3-none-any.whl.metadata (21 kB)\n",
      "Collecting joblib~=1.1.0 (from pandas-profiling)\n",
      "  Downloading joblib-1.1.1-py2.py3-none-any.whl.metadata (5.2 kB)\n",
      "Requirement already satisfied: scipy>=1.4.1 in d:\\development\\anaconda\\lib\\site-packages (from pandas-profiling) (1.13.1)\n",
      "Requirement already satisfied: pandas!=1.0.0,!=1.0.1,!=1.0.2,!=1.1.0,>=0.25.3 in d:\\development\\anaconda\\lib\\site-packages (from pandas-profiling) (2.2.2)\n",
      "Requirement already satisfied: matplotlib>=3.2.0 in d:\\development\\anaconda\\lib\\site-packages (from pandas-profiling) (3.8.4)\n",
      "Requirement already satisfied: pydantic>=1.8.1 in d:\\development\\anaconda\\lib\\site-packages (from pandas-profiling) (2.8.2)\n",
      "Requirement already satisfied: PyYAML>=5.0.0 in d:\\development\\anaconda\\lib\\site-packages (from pandas-profiling) (6.0.1)\n",
      "Requirement already satisfied: jinja2>=2.11.1 in d:\\development\\anaconda\\lib\\site-packages (from pandas-profiling) (3.1.4)\n",
      "Requirement already satisfied: markupsafe~=2.1.1 in d:\\development\\anaconda\\lib\\site-packages (from pandas-profiling) (2.1.3)\n",
      "Collecting visions==0.7.4 (from visions[type_image_path]==0.7.4->pandas-profiling)\n",
      "  Downloading visions-0.7.4-py3-none-any.whl.metadata (5.9 kB)\n",
      "Requirement already satisfied: numpy>=1.16.0 in d:\\development\\anaconda\\lib\\site-packages (from pandas-profiling) (1.26.4)\n",
      "Collecting htmlmin>=0.1.12 (from pandas-profiling)\n",
      "  Downloading htmlmin-0.1.12.tar.gz (19 kB)\n",
      "  Preparing metadata (setup.py): started\n",
      "  Preparing metadata (setup.py): finished with status 'done'\n",
      "Collecting missingno>=0.4.2 (from pandas-profiling)\n",
      "  Downloading missingno-0.5.2-py3-none-any.whl.metadata (639 bytes)\n",
      "Collecting phik>=0.11.1 (from pandas-profiling)\n",
      "  Downloading phik-0.12.4-cp312-cp312-win_amd64.whl.metadata (5.6 kB)\n",
      "Collecting tangled-up-in-unicode==0.2.0 (from pandas-profiling)\n",
      "  Downloading tangled_up_in_unicode-0.2.0-py3-none-any.whl.metadata (4.8 kB)\n",
      "Requirement already satisfied: requests>=2.24.0 in d:\\development\\anaconda\\lib\\site-packages (from pandas-profiling) (2.32.2)\n",
      "Requirement already satisfied: tqdm>=4.48.2 in d:\\development\\anaconda\\lib\\site-packages (from pandas-profiling) (4.66.4)\n",
      "Requirement already satisfied: seaborn>=0.10.1 in d:\\development\\anaconda\\lib\\site-packages (from pandas-profiling) (0.13.2)\n",
      "Collecting multimethod>=1.4 (from pandas-profiling)\n",
      "  Downloading multimethod-2.0-py3-none-any.whl.metadata (9.2 kB)\n",
      "Requirement already satisfied: attrs>=19.3.0 in d:\\development\\anaconda\\lib\\site-packages (from visions==0.7.4->visions[type_image_path]==0.7.4->pandas-profiling) (23.1.0)\n",
      "Requirement already satisfied: networkx>=2.4 in d:\\development\\anaconda\\lib\\site-packages (from visions==0.7.4->visions[type_image_path]==0.7.4->pandas-profiling) (3.2.1)\n",
      "Collecting imagehash (from visions[type_image_path]==0.7.4->pandas-profiling)\n",
      "  Downloading ImageHash-4.3.2-py2.py3-none-any.whl.metadata (8.4 kB)\n",
      "Requirement already satisfied: Pillow in d:\\development\\anaconda\\lib\\site-packages (from visions[type_image_path]==0.7.4->pandas-profiling) (10.3.0)\n",
      "Requirement already satisfied: contourpy>=1.0.1 in d:\\development\\anaconda\\lib\\site-packages (from matplotlib>=3.2.0->pandas-profiling) (1.2.0)\n",
      "Requirement already satisfied: cycler>=0.10 in d:\\development\\anaconda\\lib\\site-packages (from matplotlib>=3.2.0->pandas-profiling) (0.11.0)\n",
      "Requirement already satisfied: fonttools>=4.22.0 in d:\\development\\anaconda\\lib\\site-packages (from matplotlib>=3.2.0->pandas-profiling) (4.51.0)\n",
      "Requirement already satisfied: kiwisolver>=1.3.1 in d:\\development\\anaconda\\lib\\site-packages (from matplotlib>=3.2.0->pandas-profiling) (1.4.4)\n",
      "Requirement already satisfied: packaging>=20.0 in d:\\development\\anaconda\\lib\\site-packages (from matplotlib>=3.2.0->pandas-profiling) (23.2)\n",
      "Requirement already satisfied: pyparsing>=2.3.1 in d:\\development\\anaconda\\lib\\site-packages (from matplotlib>=3.2.0->pandas-profiling) (3.0.9)\n",
      "Requirement already satisfied: python-dateutil>=2.7 in d:\\development\\anaconda\\lib\\site-packages (from matplotlib>=3.2.0->pandas-profiling) (2.9.0.post0)\n",
      "Requirement already satisfied: pytz>=2020.1 in d:\\development\\anaconda\\lib\\site-packages (from pandas!=1.0.0,!=1.0.1,!=1.0.2,!=1.1.0,>=0.25.3->pandas-profiling) (2024.1)\n",
      "Requirement already satisfied: tzdata>=2022.7 in d:\\development\\anaconda\\lib\\site-packages (from pandas!=1.0.0,!=1.0.1,!=1.0.2,!=1.1.0,>=0.25.3->pandas-profiling) (2023.3)\n",
      "Requirement already satisfied: annotated-types>=0.4.0 in d:\\development\\anaconda\\lib\\site-packages (from pydantic>=1.8.1->pandas-profiling) (0.6.0)\n",
      "Requirement already satisfied: pydantic-core==2.20.1 in d:\\development\\anaconda\\lib\\site-packages (from pydantic>=1.8.1->pandas-profiling) (2.20.1)\n",
      "Requirement already satisfied: typing-extensions>=4.6.1 in d:\\development\\anaconda\\lib\\site-packages (from pydantic>=1.8.1->pandas-profiling) (4.11.0)\n",
      "Requirement already satisfied: charset-normalizer<4,>=2 in d:\\development\\anaconda\\lib\\site-packages (from requests>=2.24.0->pandas-profiling) (2.0.4)\n",
      "Requirement already satisfied: idna<4,>=2.5 in d:\\development\\anaconda\\lib\\site-packages (from requests>=2.24.0->pandas-profiling) (3.7)\n",
      "Requirement already satisfied: urllib3<3,>=1.21.1 in d:\\development\\anaconda\\lib\\site-packages (from requests>=2.24.0->pandas-profiling) (2.2.2)\n",
      "Requirement already satisfied: certifi>=2017.4.17 in d:\\development\\anaconda\\lib\\site-packages (from requests>=2.24.0->pandas-profiling) (2024.7.4)\n",
      "Requirement already satisfied: colorama in d:\\development\\anaconda\\lib\\site-packages (from tqdm>=4.48.2->pandas-profiling) (0.4.6)\n",
      "Requirement already satisfied: six>=1.5 in d:\\development\\anaconda\\lib\\site-packages (from python-dateutil>=2.7->matplotlib>=3.2.0->pandas-profiling) (1.16.0)\n",
      "Requirement already satisfied: PyWavelets in d:\\development\\anaconda\\lib\\site-packages (from imagehash->visions[type_image_path]==0.7.4->pandas-profiling) (1.5.0)\n",
      "Downloading pandas_profiling-3.2.0-py2.py3-none-any.whl (262 kB)\n",
      "   ---------------------------------------- 0.0/262.6 kB ? eta -:--:--\n",
      "   ------------ --------------------------- 81.9/262.6 kB 2.3 MB/s eta 0:00:01\n",
      "   ------------------------------- -------- 204.8/262.6 kB 2.5 MB/s eta 0:00:01\n",
      "   ---------------------------------------- 262.6/262.6 kB 2.3 MB/s eta 0:00:00\n",
      "Downloading tangled_up_in_unicode-0.2.0-py3-none-any.whl (4.7 MB)\n",
      "   ---------------------------------------- 0.0/4.7 MB ? eta -:--:--\n",
      "    --------------------------------------- 0.1/4.7 MB 2.2 MB/s eta 0:00:03\n",
      "   - -------------------------------------- 0.2/4.7 MB 2.3 MB/s eta 0:00:02\n",
      "   -- ------------------------------------- 0.3/4.7 MB 1.9 MB/s eta 0:00:03\n",
      "   -- ------------------------------------- 0.3/4.7 MB 1.7 MB/s eta 0:00:03\n",
      "   --- ------------------------------------ 0.4/4.7 MB 1.6 MB/s eta 0:00:03\n",
      "   --- ------------------------------------ 0.5/4.7 MB 1.6 MB/s eta 0:00:03\n",
      "   ---- ----------------------------------- 0.5/4.7 MB 1.6 MB/s eta 0:00:03\n",
      "   ----- ---------------------------------- 0.6/4.7 MB 1.6 MB/s eta 0:00:03\n",
      "   ------ --------------------------------- 0.7/4.7 MB 1.7 MB/s eta 0:00:03\n",
      "   ------ --------------------------------- 0.8/4.7 MB 1.7 MB/s eta 0:00:03\n",
      "   -------- ------------------------------- 1.0/4.7 MB 1.8 MB/s eta 0:00:03\n",
      "   --------- ------------------------------ 1.1/4.7 MB 1.9 MB/s eta 0:00:02\n",
      "   ---------- ----------------------------- 1.2/4.7 MB 2.0 MB/s eta 0:00:02\n",
      "   ----------- ---------------------------- 1.4/4.7 MB 2.1 MB/s eta 0:00:02\n",
      "   ------------ --------------------------- 1.5/4.7 MB 2.1 MB/s eta 0:00:02\n",
      "   ------------- -------------------------- 1.6/4.7 MB 2.1 MB/s eta 0:00:02\n",
      "   ------------- -------------------------- 1.6/4.7 MB 2.0 MB/s eta 0:00:02\n",
      "   -------------- ------------------------- 1.7/4.7 MB 2.0 MB/s eta 0:00:02\n",
      "   -------------- ------------------------- 1.7/4.7 MB 1.9 MB/s eta 0:00:02\n",
      "   --------------- ------------------------ 1.8/4.7 MB 1.9 MB/s eta 0:00:02\n",
      "   --------------- ------------------------ 1.9/4.7 MB 1.9 MB/s eta 0:00:02\n",
      "   ---------------- ----------------------- 1.9/4.7 MB 1.9 MB/s eta 0:00:02\n",
      "   ----------------- ---------------------- 2.1/4.7 MB 1.9 MB/s eta 0:00:02\n",
      "   ------------------ --------------------- 2.1/4.7 MB 1.9 MB/s eta 0:00:02\n",
      "   ------------------ --------------------- 2.2/4.7 MB 1.8 MB/s eta 0:00:02\n",
      "   ------------------ --------------------- 2.2/4.7 MB 1.8 MB/s eta 0:00:02\n",
      "   ------------------ --------------------- 2.2/4.7 MB 1.8 MB/s eta 0:00:02\n",
      "   ------------------ --------------------- 2.2/4.7 MB 1.7 MB/s eta 0:00:02\n",
      "   ------------------- -------------------- 2.3/4.7 MB 1.7 MB/s eta 0:00:02\n",
      "   ------------------- -------------------- 2.3/4.7 MB 1.6 MB/s eta 0:00:02\n",
      "   ------------------- -------------------- 2.3/4.7 MB 1.6 MB/s eta 0:00:02\n",
      "   ------------------- -------------------- 2.3/4.7 MB 1.6 MB/s eta 0:00:02\n",
      "   ------------------- -------------------- 2.4/4.7 MB 1.5 MB/s eta 0:00:02\n",
      "   -------------------- ------------------- 2.4/4.7 MB 1.5 MB/s eta 0:00:02\n",
      "   -------------------- ------------------- 2.4/4.7 MB 1.4 MB/s eta 0:00:02\n",
      "   -------------------- ------------------- 2.4/4.7 MB 1.4 MB/s eta 0:00:02\n",
      "   -------------------- ------------------- 2.4/4.7 MB 1.4 MB/s eta 0:00:02\n",
      "   -------------------- ------------------- 2.4/4.7 MB 1.3 MB/s eta 0:00:02\n",
      "   -------------------- ------------------- 2.4/4.7 MB 1.3 MB/s eta 0:00:02\n",
      "   -------------------- ------------------- 2.4/4.7 MB 1.3 MB/s eta 0:00:02\n",
      "   -------------------- ------------------- 2.5/4.7 MB 1.3 MB/s eta 0:00:02\n",
      "   --------------------- ------------------ 2.5/4.7 MB 1.2 MB/s eta 0:00:02\n",
      "   --------------------- ------------------ 2.5/4.7 MB 1.2 MB/s eta 0:00:02\n",
      "   --------------------- ------------------ 2.5/4.7 MB 1.2 MB/s eta 0:00:02\n",
      "   --------------------- ------------------ 2.6/4.7 MB 1.2 MB/s eta 0:00:02\n",
      "   --------------------- ------------------ 2.6/4.7 MB 1.2 MB/s eta 0:00:02\n",
      "   --------------------- ------------------ 2.6/4.7 MB 1.2 MB/s eta 0:00:02\n",
      "   ---------------------- ----------------- 2.6/4.7 MB 1.1 MB/s eta 0:00:02\n",
      "   ---------------------- ----------------- 2.6/4.7 MB 1.1 MB/s eta 0:00:02\n",
      "   ---------------------- ----------------- 2.7/4.7 MB 1.1 MB/s eta 0:00:02\n",
      "   ---------------------- ----------------- 2.7/4.7 MB 1.1 MB/s eta 0:00:02\n",
      "   ---------------------- ----------------- 2.7/4.7 MB 1.1 MB/s eta 0:00:02\n",
      "   ----------------------- ---------------- 2.7/4.7 MB 1.1 MB/s eta 0:00:02\n",
      "   ----------------------- ---------------- 2.8/4.7 MB 1.1 MB/s eta 0:00:02\n",
      "   ----------------------- ---------------- 2.8/4.7 MB 1.1 MB/s eta 0:00:02\n",
      "   ----------------------- ---------------- 2.8/4.7 MB 1.1 MB/s eta 0:00:02\n",
      "   ----------------------- ---------------- 2.8/4.7 MB 1.0 MB/s eta 0:00:02\n",
      "   ------------------------ --------------- 2.8/4.7 MB 1.0 MB/s eta 0:00:02\n",
      "   ------------------------ --------------- 2.9/4.7 MB 1.0 MB/s eta 0:00:02\n",
      "   ------------------------ --------------- 2.9/4.7 MB 1.0 MB/s eta 0:00:02\n",
      "   ------------------------ --------------- 2.9/4.7 MB 1.0 MB/s eta 0:00:02\n",
      "   ------------------------- -------------- 3.0/4.7 MB 1.0 MB/s eta 0:00:02\n",
      "   ------------------------- -------------- 3.0/4.7 MB 1.0 MB/s eta 0:00:02\n",
      "   -------------------------- ------------- 3.1/4.7 MB 1.0 MB/s eta 0:00:02\n",
      "   -------------------------- ------------- 3.2/4.7 MB 1.0 MB/s eta 0:00:02\n",
      "   --------------------------- ------------ 3.2/4.7 MB 1.0 MB/s eta 0:00:02\n",
      "   --------------------------- ------------ 3.3/4.7 MB 1.0 MB/s eta 0:00:02\n",
      "   ---------------------------- ----------- 3.3/4.7 MB 1.0 MB/s eta 0:00:02\n",
      "   ---------------------------- ----------- 3.4/4.7 MB 1.0 MB/s eta 0:00:02\n",
      "   ----------------------------- ---------- 3.5/4.7 MB 1.0 MB/s eta 0:00:02\n",
      "   ----------------------------- ---------- 3.5/4.7 MB 1.0 MB/s eta 0:00:02\n",
      "   ----------------------------- ---------- 3.5/4.7 MB 1.0 MB/s eta 0:00:02\n",
      "   ------------------------------ --------- 3.6/4.7 MB 1.0 MB/s eta 0:00:02\n",
      "   ------------------------------ --------- 3.6/4.7 MB 1.0 MB/s eta 0:00:02\n",
      "   ------------------------------ --------- 3.6/4.7 MB 1.0 MB/s eta 0:00:02\n",
      "   ------------------------------ --------- 3.6/4.7 MB 1.0 MB/s eta 0:00:02\n",
      "   ------------------------------ --------- 3.6/4.7 MB 1.0 MB/s eta 0:00:02\n",
      "   ------------------------------ --------- 3.7/4.7 MB 995.6 kB/s eta 0:00:02\n",
      "   ------------------------------- -------- 3.7/4.7 MB 991.2 kB/s eta 0:00:02\n",
      "   ------------------------------- -------- 3.7/4.7 MB 991.2 kB/s eta 0:00:02\n",
      "   ------------------------------- -------- 3.7/4.7 MB 976.3 kB/s eta 0:00:02\n",
      "   ------------------------------- -------- 3.7/4.7 MB 964.5 kB/s eta 0:00:02\n",
      "   ------------------------------- -------- 3.8/4.7 MB 962.1 kB/s eta 0:00:02\n",
      "   -------------------------------- ------- 3.8/4.7 MB 957.2 kB/s eta 0:00:01\n",
      "   -------------------------------- ------- 3.8/4.7 MB 958.7 kB/s eta 0:00:01\n",
      "   -------------------------------- ------- 3.9/4.7 MB 952.9 kB/s eta 0:00:01\n",
      "   --------------------------------- ------ 3.9/4.7 MB 957.0 kB/s eta 0:00:01\n",
      "   --------------------------------- ------ 4.0/4.7 MB 962.2 kB/s eta 0:00:01\n",
      "   ---------------------------------- ----- 4.1/4.7 MB 972.1 kB/s eta 0:00:01\n",
      "   ---------------------------------- ----- 4.1/4.7 MB 974.7 kB/s eta 0:00:01\n",
      "   ----------------------------------- ---- 4.2/4.7 MB 980.7 kB/s eta 0:00:01\n",
      "   ----------------------------------- ---- 4.2/4.7 MB 979.5 kB/s eta 0:00:01\n",
      "   ------------------------------------ --- 4.3/4.7 MB 980.7 kB/s eta 0:00:01\n",
      "   ------------------------------------ --- 4.4/4.7 MB 986.5 kB/s eta 0:00:01\n",
      "   ------------------------------------- -- 4.4/4.7 MB 985.5 kB/s eta 0:00:01\n",
      "   ------------------------------------- -- 4.4/4.7 MB 978.5 kB/s eta 0:00:01\n",
      "   ------------------------------------- -- 4.5/4.7 MB 974.2 kB/s eta 0:00:01\n",
      "   ------------------------------------- -- 4.5/4.7 MB 974.2 kB/s eta 0:00:01\n",
      "   ------------------------------------- -- 4.5/4.7 MB 961.1 kB/s eta 0:00:01\n",
      "   -------------------------------------- - 4.5/4.7 MB 956.9 kB/s eta 0:00:01\n",
      "   -------------------------------------- - 4.5/4.7 MB 943.4 kB/s eta 0:00:01\n",
      "   -------------------------------------- - 4.5/4.7 MB 943.5 kB/s eta 0:00:01\n",
      "   -------------------------------------- - 4.6/4.7 MB 935.7 kB/s eta 0:00:01\n",
      "   -------------------------------------- - 4.6/4.7 MB 937.8 kB/s eta 0:00:01\n",
      "   -------------------------------------- - 4.6/4.7 MB 929.2 kB/s eta 0:00:01\n",
      "   ---------------------------------------  4.6/4.7 MB 930.3 kB/s eta 0:00:01\n",
      "   ---------------------------------------  4.6/4.7 MB 920.9 kB/s eta 0:00:01\n",
      "   ---------------------------------------  4.6/4.7 MB 913.5 kB/s eta 0:00:01\n",
      "   ---------------------------------------  4.7/4.7 MB 910.0 kB/s eta 0:00:01\n",
      "   ---------------------------------------  4.7/4.7 MB 910.0 kB/s eta 0:00:01\n",
      "   ---------------------------------------  4.7/4.7 MB 896.0 kB/s eta 0:00:01\n",
      "   ---------------------------------------  4.7/4.7 MB 896.0 kB/s eta 0:00:01\n",
      "   ---------------------------------------  4.7/4.7 MB 884.8 kB/s eta 0:00:01\n",
      "   ---------------------------------------  4.7/4.7 MB 883.4 kB/s eta 0:00:01\n",
      "   ---------------------------------------- 4.7/4.7 MB 878.3 kB/s eta 0:00:00\n",
      "Downloading visions-0.7.4-py3-none-any.whl (102 kB)\n",
      "   ---------------------------------------- 0.0/102.4 kB ? eta -:--:--\n",
      "   ---------------------------------------- 0.0/102.4 kB ? eta -:--:--\n",
      "   -------- ------------------------------- 20.5/102.4 kB ? eta -:--:--\n",
      "   ------------------- ------------------- 51.2/102.4 kB 525.1 kB/s eta 0:00:01\n",
      "   --------------------------- ----------- 71.7/102.4 kB 491.5 kB/s eta 0:00:01\n",
      "   ----------------------------------- --- 92.2/102.4 kB 525.1 kB/s eta 0:00:01\n",
      "   -------------------------------------- 102.4/102.4 kB 492.8 kB/s eta 0:00:00\n",
      "Downloading joblib-1.1.1-py2.py3-none-any.whl (309 kB)\n",
      "   ---------------------------------------- 0.0/309.8 kB ? eta -:--:--\n",
      "   ----- --------------------------------- 41.0/309.8 kB 960.0 kB/s eta 0:00:01\n",
      "   ---------- ---------------------------- 81.9/309.8 kB 919.0 kB/s eta 0:00:01\n",
      "   ------------------ --------------------- 143.4/309.8 kB 1.1 MB/s eta 0:00:01\n",
      "   ----------------------------- ---------- 225.3/309.8 kB 1.3 MB/s eta 0:00:01\n",
      "   ------------------------------------- -- 286.7/309.8 kB 1.4 MB/s eta 0:00:01\n",
      "   ---------------------------------------- 309.8/309.8 kB 1.2 MB/s eta 0:00:00\n",
      "Downloading missingno-0.5.2-py3-none-any.whl (8.7 kB)\n",
      "Downloading multimethod-2.0-py3-none-any.whl (9.8 kB)\n",
      "Downloading phik-0.12.4-cp312-cp312-win_amd64.whl (666 kB)\n",
      "   ---------------------------------------- 0.0/666.4 kB ? eta -:--:--\n",
      "   --- ------------------------------------ 51.2/666.4 kB 1.3 MB/s eta 0:00:01\n",
      "   ------- -------------------------------- 122.9/666.4 kB 1.8 MB/s eta 0:00:01\n",
      "   ----------- ---------------------------- 184.3/666.4 kB 1.4 MB/s eta 0:00:01\n",
      "   --------------- ------------------------ 256.0/666.4 kB 1.4 MB/s eta 0:00:01\n",
      "   -------------------- ------------------- 337.9/666.4 kB 1.5 MB/s eta 0:00:01\n",
      "   ------------------------- -------------- 419.8/666.4 kB 1.5 MB/s eta 0:00:01\n",
      "   ------------------------------- -------- 532.5/666.4 kB 1.7 MB/s eta 0:00:01\n",
      "   -------------------------------------- - 645.1/666.4 kB 1.8 MB/s eta 0:00:01\n",
      "   ---------------------------------------- 666.4/666.4 kB 1.7 MB/s eta 0:00:00\n",
      "Downloading ImageHash-4.3.2-py2.py3-none-any.whl (296 kB)\n",
      "   ---------------------------------------- 0.0/296.7 kB ? eta -:--:--\n",
      "   -------------------- ------------------- 153.6/296.7 kB 4.6 MB/s eta 0:00:01\n",
      "   -------------------------------------- - 286.7/296.7 kB 3.0 MB/s eta 0:00:01\n",
      "   ---------------------------------------- 296.7/296.7 kB 2.3 MB/s eta 0:00:00\n",
      "Building wheels for collected packages: htmlmin\n",
      "  Building wheel for htmlmin (setup.py): started\n",
      "  Building wheel for htmlmin (setup.py): finished with status 'done'\n",
      "  Created wheel for htmlmin: filename=htmlmin-0.1.12-py3-none-any.whl size=27091 sha256=846a6d8a328369a5275eee2a6c3c6151fd5db20ff174a292e2b7da84782b61a1\n",
      "  Stored in directory: c:\\users\\kumud\\appdata\\local\\pip\\cache\\wheels\\5f\\d4\\d7\\4189b07b5902ee9f3ce0dbb14909fbe8037c39d6c63ffd49c9\n",
      "Successfully built htmlmin\n",
      "Installing collected packages: htmlmin, tangled-up-in-unicode, multimethod, joblib, imagehash, visions, phik, missingno, pandas-profiling\n",
      "  Attempting uninstall: joblib\n",
      "    Found existing installation: joblib 1.4.2\n",
      "    Uninstalling joblib-1.4.2:\n",
      "      Successfully uninstalled joblib-1.4.2\n",
      "Successfully installed htmlmin-0.1.12 imagehash-4.3.2 joblib-1.1.1 missingno-0.5.2 multimethod-2.0 pandas-profiling-3.2.0 phik-0.12.4 tangled-up-in-unicode-0.2.0 visions-0.7.4\n"
     ]
    },
    {
     "name": "stderr",
     "output_type": "stream",
     "text": [
      "ERROR: pip's dependency resolver does not currently take into account all the packages that are installed. This behaviour is the source of the following dependency conflicts.\n",
      "scikit-learn 1.4.2 requires joblib>=1.2.0, but you have joblib 1.1.1 which is incompatible.\n"
     ]
    }
   ],
   "source": [
    "!pip install pandas-profiling"
   ]
  },
  {
   "cell_type": "code",
   "execution_count": 11,
   "metadata": {},
   "outputs": [
    {
     "name": "stderr",
     "output_type": "stream",
     "text": [
      "C:\\Users\\kumud\\AppData\\Local\\Temp\\ipykernel_25184\\4209343599.py:1: DeprecationWarning: `import pandas_profiling` is going to be deprecated by April 1st. Please use `import ydata_profiling` instead.\n",
      "  from pandas_profiling import ProfileReport\n"
     ]
    },
    {
     "data": {
      "application/vnd.jupyter.widget-view+json": {
       "model_id": "5a7554ff9b5f497b97e5f53b53ee2df6",
       "version_major": 2,
       "version_minor": 0
      },
      "text/plain": [
       "Summarize dataset:   0%|          | 0/5 [00:00<?, ?it/s]"
      ]
     },
     "metadata": {},
     "output_type": "display_data"
    },
    {
     "name": "stderr",
     "output_type": "stream",
     "text": [
      "100%|██████████| 12/12 [00:00<00:00, 136.92it/s]\n"
     ]
    },
    {
     "data": {
      "application/vnd.jupyter.widget-view+json": {
       "model_id": "e5a84efcd5d6410e9258cdb6c411ee44",
       "version_major": 2,
       "version_minor": 0
      },
      "text/plain": [
       "Generate report structure:   0%|          | 0/1 [00:00<?, ?it/s]"
      ]
     },
     "metadata": {},
     "output_type": "display_data"
    },
    {
     "data": {
      "application/vnd.jupyter.widget-view+json": {
       "model_id": "2c3a59617938429a821c5794839ff0b9",
       "version_major": 2,
       "version_minor": 0
      },
      "text/plain": [
       "Render HTML:   0%|          | 0/1 [00:00<?, ?it/s]"
      ]
     },
     "metadata": {},
     "output_type": "display_data"
    },
    {
     "data": {
      "application/vnd.jupyter.widget-view+json": {
       "model_id": "c618a30758424cbdb03f661b34fe15d0",
       "version_major": 2,
       "version_minor": 0
      },
      "text/plain": [
       "Export report to file:   0%|          | 0/1 [00:00<?, ?it/s]"
      ]
     },
     "metadata": {},
     "output_type": "display_data"
    }
   ],
   "source": [
    "from pandas_profiling import ProfileReport\n",
    "prof = ProfileReport(df)\n",
    "prof.to_file(output_file='output.html')"
   ]
  },
  {
   "cell_type": "code",
   "execution_count": null,
   "metadata": {},
   "outputs": [
    {
     "data": {
      "text/html": [
       "\n",
       "            <div>\n",
       "                <ins><a href=\"https://ydata.ai/register\">Upgrade to ydata-sdk</a></ins>\n",
       "                <p>\n",
       "                    Improve your data and profiling with ydata-sdk, featuring data quality scoring, redundancy detection, outlier identification, text validation, and synthetic data generation.\n",
       "                </p>\n",
       "            </div>\n",
       "            "
      ],
      "text/plain": [
       "<IPython.core.display.HTML object>"
      ]
     },
     "metadata": {},
     "output_type": "display_data"
    },
    {
     "data": {
      "application/vnd.jupyter.widget-view+json": {
       "model_id": "3c3fa1eceed041c3ae47cdd91e656e5f",
       "version_major": 2,
       "version_minor": 0
      },
      "text/plain": [
       "Summarize dataset:   0%|          | 0/5 [00:00<?, ?it/s]"
      ]
     },
     "metadata": {},
     "output_type": "display_data"
    },
    {
     "name": "stderr",
     "output_type": "stream",
     "text": [
      "100%|██████████| 12/12 [00:00<00:00, 46.20it/s]\n"
     ]
    },
    {
     "data": {
      "application/vnd.jupyter.widget-view+json": {
       "model_id": "b393210e79494934b2745291ebef05a9",
       "version_major": 2,
       "version_minor": 0
      },
      "text/plain": [
       "Generate report structure:   0%|          | 0/1 [00:00<?, ?it/s]"
      ]
     },
     "metadata": {},
     "output_type": "display_data"
    },
    {
     "data": {
      "application/vnd.jupyter.widget-view+json": {
       "model_id": "e2bf49fe13f14737be3d1f1dd2a88b3e",
       "version_major": 2,
       "version_minor": 0
      },
      "text/plain": [
       "Render HTML:   0%|          | 0/1 [00:00<?, ?it/s]"
      ]
     },
     "metadata": {},
     "output_type": "display_data"
    },
    {
     "data": {
      "application/vnd.jupyter.widget-view+json": {
       "model_id": "cfc456a47e6847dcb8d1ce3ad0840194",
       "version_major": 2,
       "version_minor": 0
      },
      "text/plain": [
       "Export report to file:   0%|          | 0/1 [00:00<?, ?it/s]"
      ]
     },
     "metadata": {},
     "output_type": "display_data"
    }
   ],
   "source": [
    "from ydata_profiling import ProfileReport\n",
    "prof = ProfileReport(df)\n",
    "prof.to_file(\"output.html\")\n"
   ]
  }
 ],
 "metadata": {
  "kernelspec": {
   "display_name": "base",
   "language": "python",
   "name": "python3"
  },
  "language_info": {
   "codemirror_mode": {
    "name": "ipython",
    "version": 3
   },
   "file_extension": ".py",
   "mimetype": "text/x-python",
   "name": "python",
   "nbconvert_exporter": "python",
   "pygments_lexer": "ipython3",
   "version": "3.12.4"
  }
 },
 "nbformat": 4,
 "nbformat_minor": 2
}
